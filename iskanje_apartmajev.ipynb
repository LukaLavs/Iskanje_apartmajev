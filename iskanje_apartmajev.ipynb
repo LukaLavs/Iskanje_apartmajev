{
 "cells": [
  {
   "cell_type": "code",
   "execution_count": 5,
   "metadata": {},
   "outputs": [],
   "source": [
    "import sys\n",
    "import os\n",
    "import importlib\n",
    "\n",
    "module_path = os.path.abspath(os.path.join('.', 'mymodule'))\n",
    "if module_path not in sys.path:\n",
    "    sys.path.append(module_path)\n",
    "    \n",
    "import main; \n",
    "importlib.reload(main);"
   ]
  },
  {
   "cell_type": "markdown",
   "id": "63ce63c6",
   "metadata": {},
   "source": [
    "V naslednji celici vpišite željen datum prihoda, odhoda, željeno\n",
    "število oseb in vrednost i glede na tip url-ja. Prav tako vpišite \n",
    "okolico in točen kraj oziroma le glavni_naslov. Bodite pozorni, \n",
    "da so parametri v taki obliki, da tvorijo veljaven url. \n",
    "Za podrobnejša navodila odprite README.\n",
    "Celica ustvari tabelo vseh apartmajev."
   ]
  },
  {
   "cell_type": "code",
   "execution_count": 6,
   "id": "ead74c4f",
   "metadata": {},
   "outputs": [],
   "source": [
    "prihod = \"01.08.2024\"\n",
    "odhod = \"08.08.2024\"\n",
    "osebe = 4\n",
    "okolica = \"zadar-i-okolica\"\n",
    "kraj = \"sukosan\"\n",
    "glavni_naslov = \"rogoznica\"\n",
    "tip_urlja = 2\n",
    "\n",
    "df_vsi_apartmaji = main.ustvari_df_glavne_strani(prihod, odhod, osebe, okolica, kraj, glavni_naslov, tip_urlja)"
   ]
  },
  {
   "cell_type": "markdown",
   "id": "f738360d",
   "metadata": {},
   "source": [
    "V naslednji celici vpišite koliko apartmajev želite podrobneje pogledati,\n",
    "če ni na voljo toliko apartmajev, podrobneje pogledamo vse. Vpišite tudi brskalnik, \n",
    "ki ga uporabljate, podprti so Firefox, Chrome in Edge. Velikost črk pri pisanju imena ni pomembna.\n",
    "Celica ustvari tabelo z vsemi sobami, ki so na voljo. Tabela je urejena, \n",
    "najprej po tipu sobe, nato po cenah, potem pa po oddaljenosti do plaže."
   ]
  },
  {
   "cell_type": "code",
   "execution_count": 4,
   "id": "eda89d98",
   "metadata": {},
   "outputs": [
    {
     "ename": "NoSuchWindowException",
     "evalue": "Message: Browsing context has been discarded\nStacktrace:\nRemoteError@chrome://remote/content/shared/RemoteError.sys.mjs:8:8\nWebDriverError@chrome://remote/content/shared/webdriver/Errors.sys.mjs:193:5\nNoSuchWindowError@chrome://remote/content/shared/webdriver/Errors.sys.mjs:679:5\nassert.that/<@chrome://remote/content/shared/webdriver/Assert.sys.mjs:515:13\nassert.open@chrome://remote/content/shared/webdriver/Assert.sys.mjs:147:4\nGeckoDriver.prototype.execute_@chrome://remote/content/marionette/driver.sys.mjs:781:15\nGeckoDriver.prototype.executeScript@chrome://remote/content/marionette/driver.sys.mjs:693:15\ndespatch@chrome://remote/content/marionette/server.sys.mjs:318:40\nexecute@chrome://remote/content/marionette/server.sys.mjs:289:16\nonPacket/<@chrome://remote/content/marionette/server.sys.mjs:262:20\nonPacket@chrome://remote/content/marionette/server.sys.mjs:263:9\n_onJSONObjectReady/<@chrome://remote/content/marionette/transport.sys.mjs:494:20\n",
     "output_type": "error",
     "traceback": [
      "\u001b[1;31m---------------------------------------------------------------------------\u001b[0m",
      "\u001b[1;31mNoSuchWindowException\u001b[0m                     Traceback (most recent call last)",
      "Cell \u001b[1;32mIn[4], line 6\u001b[0m\n\u001b[0;32m      2\u001b[0m brskalnik \u001b[38;5;241m=\u001b[39m \u001b[38;5;124m\"\u001b[39m\u001b[38;5;124mfirefox\u001b[39m\u001b[38;5;124m\"\u001b[39m\n\u001b[0;32m      3\u001b[0m \u001b[38;5;66;03m#brskalnik = \"edge\"\u001b[39;00m\n\u001b[0;32m      4\u001b[0m \u001b[38;5;66;03m#brskalnik = \"chrome\"\u001b[39;00m\n\u001b[1;32m----> 6\u001b[0m df_par_apartmajev_natancno \u001b[38;5;241m=\u001b[39m \u001b[43mmain\u001b[49m\u001b[38;5;241;43m.\u001b[39;49m\u001b[43mustvari_podroben_csv\u001b[49m\u001b[43m(\u001b[49m\u001b[43mdf_vsi_apartmaji\u001b[49m\u001b[43m,\u001b[49m\u001b[43m \u001b[49m\u001b[43mpodrobna_analiza\u001b[49m\u001b[43m,\u001b[49m\u001b[43m \u001b[49m\u001b[43mprihod\u001b[49m\u001b[43m,\u001b[49m\u001b[43m \u001b[49m\u001b[43modhod\u001b[49m\u001b[43m,\u001b[49m\u001b[43m \u001b[49m\u001b[43mbrskalnik\u001b[49m\u001b[43m)\u001b[49m\n",
      "File \u001b[1;32mc:\\Users\\lavse\\Desktop\\iskanje_apartmajev\\mymodule\\main.py:69\u001b[0m, in \u001b[0;36mustvari_podroben_csv\u001b[1;34m(df, stevilo_izbranih, zacetek, konec, brskalnik)\u001b[0m\n\u001b[0;32m     68\u001b[0m \u001b[38;5;28;01mdef\u001b[39;00m \u001b[38;5;21mustvari_podroben_csv\u001b[39m(df, stevilo_izbranih, zacetek, konec, brskalnik):\n\u001b[1;32m---> 69\u001b[0m     a \u001b[38;5;241m=\u001b[39m \u001b[43mnatancne_informacije\u001b[49m\u001b[43m(\u001b[49m\u001b[43mdf\u001b[49m\u001b[43m,\u001b[49m\u001b[43m \u001b[49m\u001b[43mstevilo_izbranih\u001b[49m\u001b[43m,\u001b[49m\u001b[43m \u001b[49m\u001b[43mzacetek\u001b[49m\u001b[43m,\u001b[49m\u001b[43m \u001b[49m\u001b[43mkonec\u001b[49m\u001b[43m,\u001b[49m\u001b[43m \u001b[49m\u001b[43mbrskalnik\u001b[49m\u001b[43m)\u001b[49m\n\u001b[0;32m     70\u001b[0m     ustvarjanje_tabel\u001b[38;5;241m.\u001b[39mcreate_excel_podrobnejsi(a)\n\u001b[0;32m     71\u001b[0m     \u001b[38;5;28;01mreturn\u001b[39;00m ustvarjanje_tabel\u001b[38;5;241m.\u001b[39mustvari_podrobnejsi_csv(a)\n",
      "File \u001b[1;32mc:\\Users\\lavse\\Desktop\\iskanje_apartmajev\\mymodule\\main.py:53\u001b[0m, in \u001b[0;36mnatancne_informacije\u001b[1;34m(df, stevilo_izbranih, zacetek, konec, brskalnik)\u001b[0m\n\u001b[0;32m     50\u001b[0m soups \u001b[38;5;241m=\u001b[39m analiza_glavne_strani\u001b[38;5;241m.\u001b[39mpridobi_soups(dobri)\n\u001b[0;32m     51\u001b[0m informacije \u001b[38;5;241m=\u001b[39m analiza_podstrani\u001b[38;5;241m.\u001b[39mluscenje_fino(soups)\n\u001b[1;32m---> 53\u001b[0m izracunane_cene \u001b[38;5;241m=\u001b[39m \u001b[43mprave_cene\u001b[49m\u001b[43m(\u001b[49m\u001b[43mstevilo_izbranih\u001b[49m\u001b[43m,\u001b[49m\u001b[43m \u001b[49m\u001b[43mdobri\u001b[49m\u001b[43m,\u001b[49m\u001b[43m \u001b[49m\u001b[43mdatum_od_do\u001b[49m\u001b[43m(\u001b[49m\u001b[43mzacetek\u001b[49m\u001b[43m,\u001b[49m\u001b[43m \u001b[49m\u001b[43mkonec\u001b[49m\u001b[43m)\u001b[49m\u001b[43m,\u001b[49m\u001b[43m \u001b[49m\u001b[43mbrskalnik\u001b[49m\u001b[43m)\u001b[49m\n\u001b[0;32m     54\u001b[0m naslovi \u001b[38;5;241m=\u001b[39m informacije[\u001b[38;5;241m0\u001b[39m]\n\u001b[0;32m     55\u001b[0m razdalje \u001b[38;5;241m=\u001b[39m informacije[\u001b[38;5;241m1\u001b[39m]\n",
      "File \u001b[1;32mc:\\Users\\lavse\\Desktop\\iskanje_apartmajev\\mymodule\\main.py:33\u001b[0m, in \u001b[0;36mprave_cene\u001b[1;34m(n, seznam_urljev, datum, brskalnik)\u001b[0m\n\u001b[0;32m     31\u001b[0m a \u001b[38;5;241m=\u001b[39m analiza_podstrani\u001b[38;5;241m.\u001b[39mseznam_price_id(n)\n\u001b[0;32m     32\u001b[0m velikost \u001b[38;5;241m=\u001b[39m [x[\u001b[38;5;241m0\u001b[39m] \u001b[38;5;28;01mfor\u001b[39;00m x \u001b[38;5;129;01min\u001b[39;00m a]\n\u001b[1;32m---> 33\u001b[0m b \u001b[38;5;241m=\u001b[39m \u001b[43manaliza_z_selenium\u001b[49m\u001b[38;5;241;43m.\u001b[39;49m\u001b[43mtocni_ceniki\u001b[49m\u001b[43m(\u001b[49m\u001b[43mseznam_urljev\u001b[49m\u001b[43m,\u001b[49m\u001b[43m \u001b[49m\u001b[43ma\u001b[49m\u001b[43m,\u001b[49m\u001b[43m \u001b[49m\u001b[43mbrskalnik\u001b[49m\u001b[43m)\u001b[49m\n\u001b[0;32m     34\u001b[0m c \u001b[38;5;241m=\u001b[39m analiza_z_selenium\u001b[38;5;241m.\u001b[39mizlusci_cenik(b)\n\u001b[0;32m     35\u001b[0m e \u001b[38;5;241m=\u001b[39m []\n",
      "File \u001b[1;32mc:\\Users\\lavse\\Desktop\\iskanje_apartmajev\\mymodule\\analiza_z_selenium.py:34\u001b[0m, in \u001b[0;36mtocni_ceniki\u001b[1;34m(seznam_urljev, pricelist_id, brskalnik)\u001b[0m\n\u001b[0;32m     32\u001b[0m \u001b[38;5;28;01mfor\u001b[39;00m \u001b[38;5;28mid\u001b[39m \u001b[38;5;129;01min\u001b[39;00m sez_id:\n\u001b[0;32m     33\u001b[0m     funkcija_klic \u001b[38;5;241m=\u001b[39m \u001b[38;5;124mf\u001b[39m\u001b[38;5;124m\"\u001b[39m\u001b[38;5;124mshowPricelist(\u001b[39m\u001b[38;5;132;01m{\u001b[39;00m\u001b[38;5;28mid\u001b[39m\u001b[38;5;132;01m}\u001b[39;00m\u001b[38;5;124m, \u001b[39m\u001b[38;5;124m'\u001b[39m\u001b[38;5;124mreg\u001b[39m\u001b[38;5;124m'\u001b[39m\u001b[38;5;124m, \u001b[39m\u001b[38;5;124m'\u001b[39m\u001b[38;5;124mapartments\u001b[39m\u001b[38;5;124m'\u001b[39m\u001b[38;5;124m, null);\u001b[39m\u001b[38;5;124m\"\u001b[39m\n\u001b[1;32m---> 34\u001b[0m     \u001b[43mdriver\u001b[49m\u001b[38;5;241;43m.\u001b[39;49m\u001b[43mexecute_script\u001b[49m\u001b[43m(\u001b[49m\u001b[43mfunkcija_klic\u001b[49m\u001b[43m)\u001b[49m\n\u001b[0;32m     36\u001b[0m     \u001b[38;5;28;01mtry\u001b[39;00m:\n\u001b[0;32m     38\u001b[0m         WebDriverWait(driver, \u001b[38;5;241m20\u001b[39m)\u001b[38;5;241m.\u001b[39muntil(\n\u001b[0;32m     39\u001b[0m             EC\u001b[38;5;241m.\u001b[39mpresence_of_element_located((By\u001b[38;5;241m.\u001b[39mID, \u001b[38;5;124mf\u001b[39m\u001b[38;5;124m'\u001b[39m\u001b[38;5;124mmod-unit-prc-content\u001b[39m\u001b[38;5;132;01m{\u001b[39;00m\u001b[38;5;28mid\u001b[39m\u001b[38;5;132;01m}\u001b[39;00m\u001b[38;5;124m'\u001b[39m))\n\u001b[0;32m     40\u001b[0m         )\n",
      "File \u001b[1;32mc:\\Users\\lavse\\Desktop\\iskanje_apartmajev\\venv\\Lib\\site-packages\\selenium\\webdriver\\remote\\webdriver.py:414\u001b[0m, in \u001b[0;36mWebDriver.execute_script\u001b[1;34m(self, script, *args)\u001b[0m\n\u001b[0;32m    411\u001b[0m converted_args \u001b[38;5;241m=\u001b[39m \u001b[38;5;28mlist\u001b[39m(args)\n\u001b[0;32m    412\u001b[0m command \u001b[38;5;241m=\u001b[39m Command\u001b[38;5;241m.\u001b[39mW3C_EXECUTE_SCRIPT\n\u001b[1;32m--> 414\u001b[0m \u001b[38;5;28;01mreturn\u001b[39;00m \u001b[38;5;28;43mself\u001b[39;49m\u001b[38;5;241;43m.\u001b[39;49m\u001b[43mexecute\u001b[49m\u001b[43m(\u001b[49m\u001b[43mcommand\u001b[49m\u001b[43m,\u001b[49m\u001b[43m \u001b[49m\u001b[43m{\u001b[49m\u001b[38;5;124;43m\"\u001b[39;49m\u001b[38;5;124;43mscript\u001b[39;49m\u001b[38;5;124;43m\"\u001b[39;49m\u001b[43m:\u001b[49m\u001b[43m \u001b[49m\u001b[43mscript\u001b[49m\u001b[43m,\u001b[49m\u001b[43m \u001b[49m\u001b[38;5;124;43m\"\u001b[39;49m\u001b[38;5;124;43margs\u001b[39;49m\u001b[38;5;124;43m\"\u001b[39;49m\u001b[43m:\u001b[49m\u001b[43m \u001b[49m\u001b[43mconverted_args\u001b[49m\u001b[43m}\u001b[49m\u001b[43m)\u001b[49m[\u001b[38;5;124m\"\u001b[39m\u001b[38;5;124mvalue\u001b[39m\u001b[38;5;124m\"\u001b[39m]\n",
      "File \u001b[1;32mc:\\Users\\lavse\\Desktop\\iskanje_apartmajev\\venv\\Lib\\site-packages\\selenium\\webdriver\\remote\\webdriver.py:354\u001b[0m, in \u001b[0;36mWebDriver.execute\u001b[1;34m(self, driver_command, params)\u001b[0m\n\u001b[0;32m    352\u001b[0m response \u001b[38;5;241m=\u001b[39m \u001b[38;5;28mself\u001b[39m\u001b[38;5;241m.\u001b[39mcommand_executor\u001b[38;5;241m.\u001b[39mexecute(driver_command, params)\n\u001b[0;32m    353\u001b[0m \u001b[38;5;28;01mif\u001b[39;00m response:\n\u001b[1;32m--> 354\u001b[0m     \u001b[38;5;28;43mself\u001b[39;49m\u001b[38;5;241;43m.\u001b[39;49m\u001b[43merror_handler\u001b[49m\u001b[38;5;241;43m.\u001b[39;49m\u001b[43mcheck_response\u001b[49m\u001b[43m(\u001b[49m\u001b[43mresponse\u001b[49m\u001b[43m)\u001b[49m\n\u001b[0;32m    355\u001b[0m     response[\u001b[38;5;124m\"\u001b[39m\u001b[38;5;124mvalue\u001b[39m\u001b[38;5;124m\"\u001b[39m] \u001b[38;5;241m=\u001b[39m \u001b[38;5;28mself\u001b[39m\u001b[38;5;241m.\u001b[39m_unwrap_value(response\u001b[38;5;241m.\u001b[39mget(\u001b[38;5;124m\"\u001b[39m\u001b[38;5;124mvalue\u001b[39m\u001b[38;5;124m\"\u001b[39m, \u001b[38;5;28;01mNone\u001b[39;00m))\n\u001b[0;32m    356\u001b[0m     \u001b[38;5;28;01mreturn\u001b[39;00m response\n",
      "File \u001b[1;32mc:\\Users\\lavse\\Desktop\\iskanje_apartmajev\\venv\\Lib\\site-packages\\selenium\\webdriver\\remote\\errorhandler.py:229\u001b[0m, in \u001b[0;36mErrorHandler.check_response\u001b[1;34m(self, response)\u001b[0m\n\u001b[0;32m    227\u001b[0m         alert_text \u001b[38;5;241m=\u001b[39m value[\u001b[38;5;124m\"\u001b[39m\u001b[38;5;124malert\u001b[39m\u001b[38;5;124m\"\u001b[39m]\u001b[38;5;241m.\u001b[39mget(\u001b[38;5;124m\"\u001b[39m\u001b[38;5;124mtext\u001b[39m\u001b[38;5;124m\"\u001b[39m)\n\u001b[0;32m    228\u001b[0m     \u001b[38;5;28;01mraise\u001b[39;00m exception_class(message, screen, stacktrace, alert_text)  \u001b[38;5;66;03m# type: ignore[call-arg]  # mypy is not smart enough here\u001b[39;00m\n\u001b[1;32m--> 229\u001b[0m \u001b[38;5;28;01mraise\u001b[39;00m exception_class(message, screen, stacktrace)\n",
      "\u001b[1;31mNoSuchWindowException\u001b[0m: Message: Browsing context has been discarded\nStacktrace:\nRemoteError@chrome://remote/content/shared/RemoteError.sys.mjs:8:8\nWebDriverError@chrome://remote/content/shared/webdriver/Errors.sys.mjs:193:5\nNoSuchWindowError@chrome://remote/content/shared/webdriver/Errors.sys.mjs:679:5\nassert.that/<@chrome://remote/content/shared/webdriver/Assert.sys.mjs:515:13\nassert.open@chrome://remote/content/shared/webdriver/Assert.sys.mjs:147:4\nGeckoDriver.prototype.execute_@chrome://remote/content/marionette/driver.sys.mjs:781:15\nGeckoDriver.prototype.executeScript@chrome://remote/content/marionette/driver.sys.mjs:693:15\ndespatch@chrome://remote/content/marionette/server.sys.mjs:318:40\nexecute@chrome://remote/content/marionette/server.sys.mjs:289:16\nonPacket/<@chrome://remote/content/marionette/server.sys.mjs:262:20\nonPacket@chrome://remote/content/marionette/server.sys.mjs:263:9\n_onJSONObjectReady/<@chrome://remote/content/marionette/transport.sys.mjs:494:20\n"
     ]
    }
   ],
   "source": [
    "podrobna_analiza = 60\n",
    "brskalnik = \"firefox\"\n",
    "#brskalnik = \"edge\"\n",
    "#brskalnik = \"chrome\"\n",
    "\n",
    "df_par_apartmajev_natancno = main.ustvari_podroben_csv(df_vsi_apartmaji, podrobna_analiza, prihod, odhod, brskalnik)"
   ]
  },
  {
   "cell_type": "markdown",
   "id": "713bbb0f",
   "metadata": {},
   "source": [
    "Naslednja celica shrani nekaj zanimivih grafičnih prikazov v datoteko grafi_in_tabele."
   ]
  },
  {
   "cell_type": "code",
   "execution_count": 6,
   "id": "82b622bf",
   "metadata": {},
   "outputs": [],
   "source": [
    "main.graf(df_par_apartmajev_natancno)"
   ]
  }
 ],
 "metadata": {
  "kernelspec": {
   "display_name": "venv",
   "language": "python",
   "name": "python3"
  },
  "language_info": {
   "codemirror_mode": {
    "name": "ipython",
    "version": 3
   },
   "file_extension": ".py",
   "mimetype": "text/x-python",
   "name": "python",
   "nbconvert_exporter": "python",
   "pygments_lexer": "ipython3",
   "version": "3.12.4"
  }
 },
 "nbformat": 4,
 "nbformat_minor": 5
}
