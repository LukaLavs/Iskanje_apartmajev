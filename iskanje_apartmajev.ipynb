{
 "cells": [
  {
   "cell_type": "code",
   "execution_count": 7,
   "metadata": {},
   "outputs": [],
   "source": [
    "import sys\n",
    "import os\n",
    "import importlib\n",
    "\n",
    "module_path = os.path.abspath(os.path.join('.', 'mymodule'))\n",
    "if module_path not in sys.path:\n",
    "    sys.path.append(module_path)\n",
    "    \n",
    "import main; \n",
    "importlib.reload(main);"
   ]
  },
  {
   "cell_type": "markdown",
   "id": "63ce63c6",
   "metadata": {},
   "source": [
    "V naslednji celici vpišite željen datum prihoda, odhoda, željeno\n",
    "število oseb in vrednost i glede na tip url-ja. Prav tako vpišite \n",
    "okolico in točen kraj oziroma le glavni_naslov. Bodite pozorni, \n",
    "da so parametri v taki obliki, da tvorijo veljaven url. \n",
    "Za podrobnejša navodila odprite README.\n",
    "Celica ustvari tabelo vseh apartmajev."
   ]
  },
  {
   "cell_type": "code",
   "execution_count": 8,
   "id": "ead74c4f",
   "metadata": {},
   "outputs": [],
   "source": [
    "prihod = \"01.08.2024\"\n",
    "odhod = \"08.08.2024\"\n",
    "osebe = 4\n",
    "okolica = \"zadar-i-okolica\"\n",
    "kraj = \"sukosan\"\n",
    "glavni_naslov = \"rogoznica\"\n",
    "i = True\n",
    "\n",
    "df_vsi_apartmaji = main.ustvari_df_glavne_strani(prihod, odhod, osebe, okolica, kraj, glavni_naslov, i)"
   ]
  },
  {
   "cell_type": "markdown",
   "id": "f738360d",
   "metadata": {},
   "source": [
    "V naslednji celici vpišite koliko apartmajev želite podrobneje pogledati,\n",
    "če ni na voljo toliko apartmajev, podrobneje pogledamo vse. Vpišite tudi brskalnik, \n",
    "ki ga uporabljate, podprti so Firefox, Chrome in Edge. Velikost črk pri pisanju imena ni pomembna.\n",
    "Celica ustvari tabelo z vsemi sobami, ki so na voljo. Tabela je urejena, \n",
    "najprej po tipu sobe, nato po cenah, potem pa po oddaljenosti do plaže."
   ]
  },
  {
   "cell_type": "code",
   "execution_count": 9,
   "id": "eda89d98",
   "metadata": {},
   "outputs": [],
   "source": [
    "podrobna_analiza = 60\n",
    "brskalnik = \"firefox\"\n",
    "#brskalnik = \"edge\"\n",
    "#brskalnik = \"chrome\"\n",
    "\n",
    "df_par_apartmajev_natancno = main.ustvari_podroben_csv(df_vsi_apartmaji, podrobna_analiza, prihod, odhod, brskalnik)"
   ]
  },
  {
   "cell_type": "markdown",
   "id": "713bbb0f",
   "metadata": {},
   "source": [
    "Naslednja celica shrani nekaj zanimivih grafičnih prikazov v datoteko grafi_in_tabele."
   ]
  },
  {
   "cell_type": "code",
   "execution_count": 11,
   "id": "82b622bf",
   "metadata": {},
   "outputs": [],
   "source": [
    "main.graf(df_par_apartmajev_natancno)"
   ]
  }
 ],
 "metadata": {
  "kernelspec": {
   "display_name": "venv",
   "language": "python",
   "name": "python3"
  },
  "language_info": {
   "codemirror_mode": {
    "name": "ipython",
    "version": 3
   },
   "file_extension": ".py",
   "mimetype": "text/x-python",
   "name": "python",
   "nbconvert_exporter": "python",
   "pygments_lexer": "ipython3",
   "version": "3.12.4"
  }
 },
 "nbformat": 4,
 "nbformat_minor": 5
}
